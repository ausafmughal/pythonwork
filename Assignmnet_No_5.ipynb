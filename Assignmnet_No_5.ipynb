{
  "nbformat": 4,
  "nbformat_minor": 0,
  "metadata": {
    "kernelspec": {
      "display_name": "Python 3",
      "language": "python",
      "name": "python3"
    },
    "language_info": {
      "codemirror_mode": {
        "name": "ipython",
        "version": 3
      },
      "file_extension": ".py",
      "mimetype": "text/x-python",
      "name": "python",
      "nbconvert_exporter": "python",
      "pygments_lexer": "ipython3",
      "version": "3.7.3"
    },
    "colab": {
      "name": "Assignmnet-No.5.ipynb",
      "provenance": [],
      "collapsed_sections": []
    }
  },
  "cells": [
    {
      "cell_type": "markdown",
      "metadata": {
        "id": "iAi4k3G1m9QM",
        "colab_type": "text"
      },
      "source": [
        "# Answer 1"
      ]
    },
    {
      "cell_type": "code",
      "metadata": {
        "id": "RXwONO-xm9QO",
        "colab_type": "code",
        "colab": {},
        "outputId": "ecb29fff-9cf2-4ebf-8160-9844d19aa2c6"
      },
      "source": [
        "n=-1\n",
        "ans=1\n",
        "while n<0: n=int(input(\"Enter Non-Negative Interger : \"))\n",
        "for i in reversed(range(1,n+1)):\n",
        "    ans=ans*i\n",
        "    print(i,end=\"\")\n",
        "    if i>1 : print(\" x \",end=\"\")\n",
        "print(\" =\",ans)"
      ],
      "execution_count": 0,
      "outputs": [
        {
          "output_type": "stream",
          "text": [
            "Enter Non-Negative Interger : 5\n",
            "5 x 4 x 3 x 2 x 1 = 120\n"
          ],
          "name": "stdout"
        }
      ]
    },
    {
      "cell_type": "markdown",
      "metadata": {
        "id": "18J2NSo1m9QT",
        "colab_type": "text"
      },
      "source": [
        "# Answer 2"
      ]
    },
    {
      "cell_type": "code",
      "metadata": {
        "id": "Cp6kV4lXm9QU",
        "colab_type": "code",
        "colab": {
          "base_uri": "https://localhost:8080/",
          "height": 68
        },
        "outputId": "b73add9e-6594-45ad-c720-c5c6537e5c33"
      },
      "source": [
        "u=0\n",
        "l=0\n",
        "for i in input(\"Enter String :\"):\n",
        "    if i.isupper(): u=u+1\n",
        "    else: l=l+1\n",
        "print(\"Total UpperCase Lettlers : \",u,\"\\nTotal LowerCase Letters  : \",l)\n"
      ],
      "execution_count": 1,
      "outputs": [
        {
          "output_type": "stream",
          "text": [
            "Enter String :AUSAf\n",
            "Total UpperCase Lettlers :  4 \n",
            "Total LowerCase Letters  :  1\n"
          ],
          "name": "stdout"
        }
      ]
    },
    {
      "cell_type": "markdown",
      "metadata": {
        "id": "Z3e7i_Ywm9QZ",
        "colab_type": "text"
      },
      "source": [
        "# Answer 3"
      ]
    },
    {
      "cell_type": "code",
      "metadata": {
        "id": "rE4yvdRTm9Qa",
        "colab_type": "code",
        "colab": {},
        "outputId": "3bec9000-dddd-4736-b999-4e794a95fd30"
      },
      "source": [
        "nums=[1,2,3,8,16,5,9,10,11,13,17,18]\n",
        "print(nums,\"\\nEven Numbers in Above List:\")\n",
        "for i in nums:\n",
        "    if i%2==0:\n",
        "        print(i)"
      ],
      "execution_count": 0,
      "outputs": [
        {
          "output_type": "stream",
          "text": [
            "[1, 2, 3, 8, 16, 5, 9, 10, 11, 13, 17, 18] \n",
            "Even Numbers in Above List:\n",
            "2\n",
            "8\n",
            "16\n",
            "10\n",
            "18\n"
          ],
          "name": "stdout"
        }
      ]
    },
    {
      "cell_type": "markdown",
      "metadata": {
        "id": "TYPkpdlcm9Qe",
        "colab_type": "text"
      },
      "source": [
        "# Answer 4"
      ]
    },
    {
      "cell_type": "code",
      "metadata": {
        "id": "we3IOCsqm9Qf",
        "colab_type": "code",
        "colab": {},
        "outputId": "fdf2b5a5-7fdb-438b-d762-8d89f1a36eab"
      },
      "source": [
        "word=\"\"\n",
        "while word!=\"done\":\n",
        "    word=input(\"Enter a String : \")\n",
        "    rw=word[::-1]\n",
        "    if word==rw: print(\"This is Palindrome\")\n",
        "    else: \n",
        "      print(\"This is not a Palindrome\")"
      ],
      "execution_count": 0,
      "outputs": [
        {
          "output_type": "stream",
          "text": [
            "Enter a String : hello\n",
            "This is not a Palindrome\n",
            "Enter a String : wow\n",
            "This is Palindrome\n",
            "Enter a String : bye\n",
            "This is not a Palindrome\n",
            "Enter a String : did\n",
            "This is Palindrome\n",
            "Enter a String : done\n",
            "This is not a Palindrome\n"
          ],
          "name": "stdout"
        }
      ]
    },
    {
      "cell_type": "markdown",
      "metadata": {
        "id": "MB4lT2Enm9Qj",
        "colab_type": "text"
      },
      "source": [
        "# Answer 5"
      ]
    },
    {
      "cell_type": "code",
      "metadata": {
        "id": "nrATKaLjm9Qk",
        "colab_type": "code",
        "colab": {},
        "outputId": "16ae807a-9285-4b19-ab4d-ca4d4eced038"
      },
      "source": [
        "prime=-1\n",
        "while prime!=0:\n",
        "    b=0\n",
        "    prime=int(input(\"Enter Any Number : \"))\n",
        "    for i in range(1,prime+1):\n",
        "        for j in range(1,i+1):\n",
        "            if i*j==prime and i!=prime:\n",
        "                print(\"This Number is not Prime\")\n",
        "                b=1\n",
        "                break\n",
        "            elif i*j==prime and i==prime:\n",
        "                print(\"The Number is Prime\")\n",
        "                b=1\n",
        "                break\n",
        "        if b==1: break"
      ],
      "execution_count": 0,
      "outputs": [
        {
          "output_type": "stream",
          "text": [
            "Enter Any Number : 5\n",
            "The Number is Prime\n",
            "Enter Any Number : 3\n",
            "The Number is Prime\n",
            "Enter Any Number : 4\n",
            "This Number is not Prime\n",
            "Enter Any Number : 6\n",
            "This Number is not Prime\n",
            "Enter Any Number : 11\n",
            "The Number is Prime\n",
            "Enter Any Number : 0\n"
          ],
          "name": "stdout"
        }
      ]
    },
    {
      "cell_type": "markdown",
      "metadata": {
        "id": "tY2kdHBom9Qn",
        "colab_type": "text"
      },
      "source": [
        "# Answer 6"
      ]
    },
    {
      "cell_type": "code",
      "metadata": {
        "id": "id7FffkFm9Qp",
        "colab_type": "code",
        "colab": {},
        "outputId": "27841863-c13d-4267-eee2-97e4671aa096"
      },
      "source": [
        "def shopList(*items):\n",
        "    print(\"Shop List : \")\n",
        "    for item in items:\n",
        "        print(item)\n",
        "\n",
        "shopList(\"Apple\",\"Banana\",\"Shirt\",\"Pen\")\n",
        "    "
      ],
      "execution_count": 0,
      "outputs": [
        {
          "output_type": "stream",
          "text": [
            "Shop List : \n",
            "Apple\n",
            "Banana\n",
            "Shirt\n",
            "Pen\n"
          ],
          "name": "stdout"
        }
      ]
    },
    {
      "cell_type": "code",
      "metadata": {
        "id": "updxERsTm9Qs",
        "colab_type": "code",
        "colab": {}
      },
      "source": [
        ""
      ],
      "execution_count": 0,
      "outputs": []
    }
  ]
}